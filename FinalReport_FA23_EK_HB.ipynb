{
  "cells": [
    {
      "cell_type": "markdown",
      "metadata": {
        "id": "view-in-github",
        "colab_type": "text"
      },
      "source": [
        "<a href=\"https://colab.research.google.com/github/harkiran-b/cs280_project/blob/main/FinalReport_FA23_EK_HB.ipynb\" target=\"_parent\"><img src=\"https://colab.research.google.com/assets/colab-badge.svg\" alt=\"Open In Colab\"/></a>"
      ]
    },
    {
      "cell_type": "markdown",
      "metadata": {
        "id": "EpxU-wqrHGoc"
      },
      "source": [
        "# NOTE TO STUDENTS\n",
        "\n",
        "Delete this code cell at the end.  \n",
        "\n",
        "* EVERY code cell must have a comment in it at the top explaining what is in the code cell.\n",
        "\n",
        "* There should be normal coding comments within the code cell too, especially if there is anything unexpected or not obvious happening in the code.\n",
        "\n",
        "* NOOOOOOOOOO code cell should include any interpretations of the data.  Those remarks should be in markdown cells  directly before or after the code cells.\n",
        "\n",
        "**Please delete the bolded comments from Dr. R before submission.**"
      ]
    },
    {
      "cell_type": "code",
      "execution_count": 29,
      "metadata": {
        "id": "v1VCQOc7HGoh"
      },
      "outputs": [],
      "source": [
        "# ALL imports here\n",
        "import pandas as pd\n",
        "import numpy as np\n",
        "import matplotlib.pyplot as plt\n",
        "import seaborn as sns"
      ]
    },
    {
      "cell_type": "markdown",
      "metadata": {
        "id": "bV62PvL_HGok"
      },
      "source": [
        "---\n",
        "#### CS 280 Final Project - FA23\n",
        "---\n",
        "\n",
        "# The Secret Behind Video Game Reviews"
      ]
    },
    {
      "cell_type": "markdown",
      "metadata": {
        "id": "BVMXYmHbHGom"
      },
      "source": [
        "### By: Erica Kurpiewski and Harkiran Bhullar\n"
      ]
    },
    {
      "cell_type": "markdown",
      "metadata": {
        "id": "R1x1PhmWHGon"
      },
      "source": [
        "---\n",
        "\n",
        "## 1. Introduction"
      ]
    },
    {
      "cell_type": "markdown",
      "metadata": {
        "id": "bSamMUqoHGoo"
      },
      "source": [
        "For this project, our group explored... (This section will be finished at a later date and can be skipped at this time.)"
      ]
    },
    {
      "cell_type": "markdown",
      "metadata": {
        "id": "hppWx7JTHGop"
      },
      "source": [
        "---\n",
        "\n",
        "## 2. Data"
      ]
    },
    {
      "cell_type": "markdown",
      "metadata": {
        "id": "7CrF8C5CHGoq"
      },
      "source": [
        "A direct link to the data can be found at the following website.\n",
        " * https://www.kaggle.com/datasets/kendallgillies/video-game-sales-and-ratings\n",
        "\n",
        "**According to the website, the data is \"a combined web scrape from VGChartz and Metacritic along with manually entered year of release values for most games with a missing year of release\" as of January 2017.**"
      ]
    },
    {
      "cell_type": "code",
      "execution_count": 30,
      "metadata": {
        "colab": {
          "base_uri": "https://localhost:8080/",
          "height": 739
        },
        "id": "nDv5BzxHHGos",
        "outputId": "899afadb-bffa-4f52-ae73-edca04eca14a"
      },
      "outputs": [
        {
          "output_type": "execute_result",
          "data": {
            "text/plain": [
              "                                                   Name Platform  \\\n",
              "0                                            Wii Sports      Wii   \n",
              "1                                     Super Mario Bros.      NES   \n",
              "2                                        Mario Kart Wii      Wii   \n",
              "3                                     Wii Sports Resort      Wii   \n",
              "4                              Pokemon Red/Pokemon Blue        G   \n",
              "...                                                 ...      ...   \n",
              "17411  Nancy Drew: The Deadly Secret of Olde World Park       DS   \n",
              "17412                      Fashion Designer: Style Icon       DS   \n",
              "17413            Ashita no Joe 2: The Anime Super Remix      PS2   \n",
              "17414            NadePro!! Kisama no Seiyuu Yatte Miro!      PS2   \n",
              "17415                     Brian Lara 2007 Pressure Play      PSP   \n",
              "\n",
              "       Year_of_Release         Genre              Publisher  NA_Sales  \\\n",
              "0               2006.0        Sports               Nintendo     41.36   \n",
              "1               1985.0      Platform               Nintendo     29.08   \n",
              "2               2008.0        Racing               Nintendo     15.68   \n",
              "3               2009.0        Sports               Nintendo     15.61   \n",
              "4               1996.0  Role-Playing               Nintendo     11.27   \n",
              "...                ...           ...                    ...       ...   \n",
              "17411           2007.0     Adventure  Majesco Entertainment      0.00   \n",
              "17412           2007.0    Simulation              505 Games      0.00   \n",
              "17413           2002.0      Fighting                 Capcom      0.00   \n",
              "17414           2009.0     Adventure                 GungHo      0.00   \n",
              "17415           2007.0        Sports            Codemasters      0.00   \n",
              "\n",
              "       EU_Sales  JP_Sales  Other_Sales  Global_Sales  Critic_Score  \\\n",
              "0         28.96      3.77         8.45         82.54          76.0   \n",
              "1          3.58      6.81         0.77         40.24           NaN   \n",
              "2         12.80      3.79         3.29         35.57          82.0   \n",
              "3         10.95      3.28         2.95         32.78          80.0   \n",
              "4          8.89     10.22         1.00         31.37           NaN   \n",
              "...         ...       ...          ...           ...           ...   \n",
              "17411      0.00      0.00         0.00          0.01          64.0   \n",
              "17412      0.00      0.00         0.00          0.01           NaN   \n",
              "17413      0.00      0.01         0.00          0.01           NaN   \n",
              "17414      0.00      0.01         0.00          0.01           NaN   \n",
              "17415      0.00      0.00         0.00          0.01           NaN   \n",
              "\n",
              "       Critic_Count  User_Score  User_Count Rating  \n",
              "0              51.0         8.0       324.0      E  \n",
              "1               NaN         NaN         NaN    NaN  \n",
              "2              73.0         8.3       712.0      E  \n",
              "3              73.0         8.0       193.0      E  \n",
              "4               NaN         NaN         NaN    NaN  \n",
              "...             ...         ...         ...    ...  \n",
              "17411           7.0         NaN         NaN      E  \n",
              "17412           NaN         NaN         NaN    NaN  \n",
              "17413           NaN         NaN         NaN    NaN  \n",
              "17414           NaN         NaN         NaN    NaN  \n",
              "17415           NaN         NaN         NaN    NaN  \n",
              "\n",
              "[17416 rows x 15 columns]"
            ],
            "text/html": [
              "\n",
              "  <div id=\"df-ec5591f1-f38e-457c-89f3-9f964f333ed9\" class=\"colab-df-container\">\n",
              "    <div>\n",
              "<style scoped>\n",
              "    .dataframe tbody tr th:only-of-type {\n",
              "        vertical-align: middle;\n",
              "    }\n",
              "\n",
              "    .dataframe tbody tr th {\n",
              "        vertical-align: top;\n",
              "    }\n",
              "\n",
              "    .dataframe thead th {\n",
              "        text-align: right;\n",
              "    }\n",
              "</style>\n",
              "<table border=\"1\" class=\"dataframe\">\n",
              "  <thead>\n",
              "    <tr style=\"text-align: right;\">\n",
              "      <th></th>\n",
              "      <th>Name</th>\n",
              "      <th>Platform</th>\n",
              "      <th>Year_of_Release</th>\n",
              "      <th>Genre</th>\n",
              "      <th>Publisher</th>\n",
              "      <th>NA_Sales</th>\n",
              "      <th>EU_Sales</th>\n",
              "      <th>JP_Sales</th>\n",
              "      <th>Other_Sales</th>\n",
              "      <th>Global_Sales</th>\n",
              "      <th>Critic_Score</th>\n",
              "      <th>Critic_Count</th>\n",
              "      <th>User_Score</th>\n",
              "      <th>User_Count</th>\n",
              "      <th>Rating</th>\n",
              "    </tr>\n",
              "  </thead>\n",
              "  <tbody>\n",
              "    <tr>\n",
              "      <th>0</th>\n",
              "      <td>Wii Sports</td>\n",
              "      <td>Wii</td>\n",
              "      <td>2006.0</td>\n",
              "      <td>Sports</td>\n",
              "      <td>Nintendo</td>\n",
              "      <td>41.36</td>\n",
              "      <td>28.96</td>\n",
              "      <td>3.77</td>\n",
              "      <td>8.45</td>\n",
              "      <td>82.54</td>\n",
              "      <td>76.0</td>\n",
              "      <td>51.0</td>\n",
              "      <td>8.0</td>\n",
              "      <td>324.0</td>\n",
              "      <td>E</td>\n",
              "    </tr>\n",
              "    <tr>\n",
              "      <th>1</th>\n",
              "      <td>Super Mario Bros.</td>\n",
              "      <td>NES</td>\n",
              "      <td>1985.0</td>\n",
              "      <td>Platform</td>\n",
              "      <td>Nintendo</td>\n",
              "      <td>29.08</td>\n",
              "      <td>3.58</td>\n",
              "      <td>6.81</td>\n",
              "      <td>0.77</td>\n",
              "      <td>40.24</td>\n",
              "      <td>NaN</td>\n",
              "      <td>NaN</td>\n",
              "      <td>NaN</td>\n",
              "      <td>NaN</td>\n",
              "      <td>NaN</td>\n",
              "    </tr>\n",
              "    <tr>\n",
              "      <th>2</th>\n",
              "      <td>Mario Kart Wii</td>\n",
              "      <td>Wii</td>\n",
              "      <td>2008.0</td>\n",
              "      <td>Racing</td>\n",
              "      <td>Nintendo</td>\n",
              "      <td>15.68</td>\n",
              "      <td>12.80</td>\n",
              "      <td>3.79</td>\n",
              "      <td>3.29</td>\n",
              "      <td>35.57</td>\n",
              "      <td>82.0</td>\n",
              "      <td>73.0</td>\n",
              "      <td>8.3</td>\n",
              "      <td>712.0</td>\n",
              "      <td>E</td>\n",
              "    </tr>\n",
              "    <tr>\n",
              "      <th>3</th>\n",
              "      <td>Wii Sports Resort</td>\n",
              "      <td>Wii</td>\n",
              "      <td>2009.0</td>\n",
              "      <td>Sports</td>\n",
              "      <td>Nintendo</td>\n",
              "      <td>15.61</td>\n",
              "      <td>10.95</td>\n",
              "      <td>3.28</td>\n",
              "      <td>2.95</td>\n",
              "      <td>32.78</td>\n",
              "      <td>80.0</td>\n",
              "      <td>73.0</td>\n",
              "      <td>8.0</td>\n",
              "      <td>193.0</td>\n",
              "      <td>E</td>\n",
              "    </tr>\n",
              "    <tr>\n",
              "      <th>4</th>\n",
              "      <td>Pokemon Red/Pokemon Blue</td>\n",
              "      <td>G</td>\n",
              "      <td>1996.0</td>\n",
              "      <td>Role-Playing</td>\n",
              "      <td>Nintendo</td>\n",
              "      <td>11.27</td>\n",
              "      <td>8.89</td>\n",
              "      <td>10.22</td>\n",
              "      <td>1.00</td>\n",
              "      <td>31.37</td>\n",
              "      <td>NaN</td>\n",
              "      <td>NaN</td>\n",
              "      <td>NaN</td>\n",
              "      <td>NaN</td>\n",
              "      <td>NaN</td>\n",
              "    </tr>\n",
              "    <tr>\n",
              "      <th>...</th>\n",
              "      <td>...</td>\n",
              "      <td>...</td>\n",
              "      <td>...</td>\n",
              "      <td>...</td>\n",
              "      <td>...</td>\n",
              "      <td>...</td>\n",
              "      <td>...</td>\n",
              "      <td>...</td>\n",
              "      <td>...</td>\n",
              "      <td>...</td>\n",
              "      <td>...</td>\n",
              "      <td>...</td>\n",
              "      <td>...</td>\n",
              "      <td>...</td>\n",
              "      <td>...</td>\n",
              "    </tr>\n",
              "    <tr>\n",
              "      <th>17411</th>\n",
              "      <td>Nancy Drew: The Deadly Secret of Olde World Park</td>\n",
              "      <td>DS</td>\n",
              "      <td>2007.0</td>\n",
              "      <td>Adventure</td>\n",
              "      <td>Majesco Entertainment</td>\n",
              "      <td>0.00</td>\n",
              "      <td>0.00</td>\n",
              "      <td>0.00</td>\n",
              "      <td>0.00</td>\n",
              "      <td>0.01</td>\n",
              "      <td>64.0</td>\n",
              "      <td>7.0</td>\n",
              "      <td>NaN</td>\n",
              "      <td>NaN</td>\n",
              "      <td>E</td>\n",
              "    </tr>\n",
              "    <tr>\n",
              "      <th>17412</th>\n",
              "      <td>Fashion Designer: Style Icon</td>\n",
              "      <td>DS</td>\n",
              "      <td>2007.0</td>\n",
              "      <td>Simulation</td>\n",
              "      <td>505 Games</td>\n",
              "      <td>0.00</td>\n",
              "      <td>0.00</td>\n",
              "      <td>0.00</td>\n",
              "      <td>0.00</td>\n",
              "      <td>0.01</td>\n",
              "      <td>NaN</td>\n",
              "      <td>NaN</td>\n",
              "      <td>NaN</td>\n",
              "      <td>NaN</td>\n",
              "      <td>NaN</td>\n",
              "    </tr>\n",
              "    <tr>\n",
              "      <th>17413</th>\n",
              "      <td>Ashita no Joe 2: The Anime Super Remix</td>\n",
              "      <td>PS2</td>\n",
              "      <td>2002.0</td>\n",
              "      <td>Fighting</td>\n",
              "      <td>Capcom</td>\n",
              "      <td>0.00</td>\n",
              "      <td>0.00</td>\n",
              "      <td>0.01</td>\n",
              "      <td>0.00</td>\n",
              "      <td>0.01</td>\n",
              "      <td>NaN</td>\n",
              "      <td>NaN</td>\n",
              "      <td>NaN</td>\n",
              "      <td>NaN</td>\n",
              "      <td>NaN</td>\n",
              "    </tr>\n",
              "    <tr>\n",
              "      <th>17414</th>\n",
              "      <td>NadePro!! Kisama no Seiyuu Yatte Miro!</td>\n",
              "      <td>PS2</td>\n",
              "      <td>2009.0</td>\n",
              "      <td>Adventure</td>\n",
              "      <td>GungHo</td>\n",
              "      <td>0.00</td>\n",
              "      <td>0.00</td>\n",
              "      <td>0.01</td>\n",
              "      <td>0.00</td>\n",
              "      <td>0.01</td>\n",
              "      <td>NaN</td>\n",
              "      <td>NaN</td>\n",
              "      <td>NaN</td>\n",
              "      <td>NaN</td>\n",
              "      <td>NaN</td>\n",
              "    </tr>\n",
              "    <tr>\n",
              "      <th>17415</th>\n",
              "      <td>Brian Lara 2007 Pressure Play</td>\n",
              "      <td>PSP</td>\n",
              "      <td>2007.0</td>\n",
              "      <td>Sports</td>\n",
              "      <td>Codemasters</td>\n",
              "      <td>0.00</td>\n",
              "      <td>0.00</td>\n",
              "      <td>0.00</td>\n",
              "      <td>0.00</td>\n",
              "      <td>0.01</td>\n",
              "      <td>NaN</td>\n",
              "      <td>NaN</td>\n",
              "      <td>NaN</td>\n",
              "      <td>NaN</td>\n",
              "      <td>NaN</td>\n",
              "    </tr>\n",
              "  </tbody>\n",
              "</table>\n",
              "<p>17416 rows × 15 columns</p>\n",
              "</div>\n",
              "    <div class=\"colab-df-buttons\">\n",
              "\n",
              "  <div class=\"colab-df-container\">\n",
              "    <button class=\"colab-df-convert\" onclick=\"convertToInteractive('df-ec5591f1-f38e-457c-89f3-9f964f333ed9')\"\n",
              "            title=\"Convert this dataframe to an interactive table.\"\n",
              "            style=\"display:none;\">\n",
              "\n",
              "  <svg xmlns=\"http://www.w3.org/2000/svg\" height=\"24px\" viewBox=\"0 -960 960 960\">\n",
              "    <path d=\"M120-120v-720h720v720H120Zm60-500h600v-160H180v160Zm220 220h160v-160H400v160Zm0 220h160v-160H400v160ZM180-400h160v-160H180v160Zm440 0h160v-160H620v160ZM180-180h160v-160H180v160Zm440 0h160v-160H620v160Z\"/>\n",
              "  </svg>\n",
              "    </button>\n",
              "\n",
              "  <style>\n",
              "    .colab-df-container {\n",
              "      display:flex;\n",
              "      gap: 12px;\n",
              "    }\n",
              "\n",
              "    .colab-df-convert {\n",
              "      background-color: #E8F0FE;\n",
              "      border: none;\n",
              "      border-radius: 50%;\n",
              "      cursor: pointer;\n",
              "      display: none;\n",
              "      fill: #1967D2;\n",
              "      height: 32px;\n",
              "      padding: 0 0 0 0;\n",
              "      width: 32px;\n",
              "    }\n",
              "\n",
              "    .colab-df-convert:hover {\n",
              "      background-color: #E2EBFA;\n",
              "      box-shadow: 0px 1px 2px rgba(60, 64, 67, 0.3), 0px 1px 3px 1px rgba(60, 64, 67, 0.15);\n",
              "      fill: #174EA6;\n",
              "    }\n",
              "\n",
              "    .colab-df-buttons div {\n",
              "      margin-bottom: 4px;\n",
              "    }\n",
              "\n",
              "    [theme=dark] .colab-df-convert {\n",
              "      background-color: #3B4455;\n",
              "      fill: #D2E3FC;\n",
              "    }\n",
              "\n",
              "    [theme=dark] .colab-df-convert:hover {\n",
              "      background-color: #434B5C;\n",
              "      box-shadow: 0px 1px 3px 1px rgba(0, 0, 0, 0.15);\n",
              "      filter: drop-shadow(0px 1px 2px rgba(0, 0, 0, 0.3));\n",
              "      fill: #FFFFFF;\n",
              "    }\n",
              "  </style>\n",
              "\n",
              "    <script>\n",
              "      const buttonEl =\n",
              "        document.querySelector('#df-ec5591f1-f38e-457c-89f3-9f964f333ed9 button.colab-df-convert');\n",
              "      buttonEl.style.display =\n",
              "        google.colab.kernel.accessAllowed ? 'block' : 'none';\n",
              "\n",
              "      async function convertToInteractive(key) {\n",
              "        const element = document.querySelector('#df-ec5591f1-f38e-457c-89f3-9f964f333ed9');\n",
              "        const dataTable =\n",
              "          await google.colab.kernel.invokeFunction('convertToInteractive',\n",
              "                                                    [key], {});\n",
              "        if (!dataTable) return;\n",
              "\n",
              "        const docLinkHtml = 'Like what you see? Visit the ' +\n",
              "          '<a target=\"_blank\" href=https://colab.research.google.com/notebooks/data_table.ipynb>data table notebook</a>'\n",
              "          + ' to learn more about interactive tables.';\n",
              "        element.innerHTML = '';\n",
              "        dataTable['output_type'] = 'display_data';\n",
              "        await google.colab.output.renderOutput(dataTable, element);\n",
              "        const docLink = document.createElement('div');\n",
              "        docLink.innerHTML = docLinkHtml;\n",
              "        element.appendChild(docLink);\n",
              "      }\n",
              "    </script>\n",
              "  </div>\n",
              "\n",
              "\n",
              "<div id=\"df-4a324284-06f2-4b88-a77f-772889fe6904\">\n",
              "  <button class=\"colab-df-quickchart\" onclick=\"quickchart('df-4a324284-06f2-4b88-a77f-772889fe6904')\"\n",
              "            title=\"Suggest charts\"\n",
              "            style=\"display:none;\">\n",
              "\n",
              "<svg xmlns=\"http://www.w3.org/2000/svg\" height=\"24px\"viewBox=\"0 0 24 24\"\n",
              "     width=\"24px\">\n",
              "    <g>\n",
              "        <path d=\"M19 3H5c-1.1 0-2 .9-2 2v14c0 1.1.9 2 2 2h14c1.1 0 2-.9 2-2V5c0-1.1-.9-2-2-2zM9 17H7v-7h2v7zm4 0h-2V7h2v10zm4 0h-2v-4h2v4z\"/>\n",
              "    </g>\n",
              "</svg>\n",
              "  </button>\n",
              "\n",
              "<style>\n",
              "  .colab-df-quickchart {\n",
              "      --bg-color: #E8F0FE;\n",
              "      --fill-color: #1967D2;\n",
              "      --hover-bg-color: #E2EBFA;\n",
              "      --hover-fill-color: #174EA6;\n",
              "      --disabled-fill-color: #AAA;\n",
              "      --disabled-bg-color: #DDD;\n",
              "  }\n",
              "\n",
              "  [theme=dark] .colab-df-quickchart {\n",
              "      --bg-color: #3B4455;\n",
              "      --fill-color: #D2E3FC;\n",
              "      --hover-bg-color: #434B5C;\n",
              "      --hover-fill-color: #FFFFFF;\n",
              "      --disabled-bg-color: #3B4455;\n",
              "      --disabled-fill-color: #666;\n",
              "  }\n",
              "\n",
              "  .colab-df-quickchart {\n",
              "    background-color: var(--bg-color);\n",
              "    border: none;\n",
              "    border-radius: 50%;\n",
              "    cursor: pointer;\n",
              "    display: none;\n",
              "    fill: var(--fill-color);\n",
              "    height: 32px;\n",
              "    padding: 0;\n",
              "    width: 32px;\n",
              "  }\n",
              "\n",
              "  .colab-df-quickchart:hover {\n",
              "    background-color: var(--hover-bg-color);\n",
              "    box-shadow: 0 1px 2px rgba(60, 64, 67, 0.3), 0 1px 3px 1px rgba(60, 64, 67, 0.15);\n",
              "    fill: var(--button-hover-fill-color);\n",
              "  }\n",
              "\n",
              "  .colab-df-quickchart-complete:disabled,\n",
              "  .colab-df-quickchart-complete:disabled:hover {\n",
              "    background-color: var(--disabled-bg-color);\n",
              "    fill: var(--disabled-fill-color);\n",
              "    box-shadow: none;\n",
              "  }\n",
              "\n",
              "  .colab-df-spinner {\n",
              "    border: 2px solid var(--fill-color);\n",
              "    border-color: transparent;\n",
              "    border-bottom-color: var(--fill-color);\n",
              "    animation:\n",
              "      spin 1s steps(1) infinite;\n",
              "  }\n",
              "\n",
              "  @keyframes spin {\n",
              "    0% {\n",
              "      border-color: transparent;\n",
              "      border-bottom-color: var(--fill-color);\n",
              "      border-left-color: var(--fill-color);\n",
              "    }\n",
              "    20% {\n",
              "      border-color: transparent;\n",
              "      border-left-color: var(--fill-color);\n",
              "      border-top-color: var(--fill-color);\n",
              "    }\n",
              "    30% {\n",
              "      border-color: transparent;\n",
              "      border-left-color: var(--fill-color);\n",
              "      border-top-color: var(--fill-color);\n",
              "      border-right-color: var(--fill-color);\n",
              "    }\n",
              "    40% {\n",
              "      border-color: transparent;\n",
              "      border-right-color: var(--fill-color);\n",
              "      border-top-color: var(--fill-color);\n",
              "    }\n",
              "    60% {\n",
              "      border-color: transparent;\n",
              "      border-right-color: var(--fill-color);\n",
              "    }\n",
              "    80% {\n",
              "      border-color: transparent;\n",
              "      border-right-color: var(--fill-color);\n",
              "      border-bottom-color: var(--fill-color);\n",
              "    }\n",
              "    90% {\n",
              "      border-color: transparent;\n",
              "      border-bottom-color: var(--fill-color);\n",
              "    }\n",
              "  }\n",
              "</style>\n",
              "\n",
              "  <script>\n",
              "    async function quickchart(key) {\n",
              "      const quickchartButtonEl =\n",
              "        document.querySelector('#' + key + ' button');\n",
              "      quickchartButtonEl.disabled = true;  // To prevent multiple clicks.\n",
              "      quickchartButtonEl.classList.add('colab-df-spinner');\n",
              "      try {\n",
              "        const charts = await google.colab.kernel.invokeFunction(\n",
              "            'suggestCharts', [key], {});\n",
              "      } catch (error) {\n",
              "        console.error('Error during call to suggestCharts:', error);\n",
              "      }\n",
              "      quickchartButtonEl.classList.remove('colab-df-spinner');\n",
              "      quickchartButtonEl.classList.add('colab-df-quickchart-complete');\n",
              "    }\n",
              "    (() => {\n",
              "      let quickchartButtonEl =\n",
              "        document.querySelector('#df-4a324284-06f2-4b88-a77f-772889fe6904 button');\n",
              "      quickchartButtonEl.style.display =\n",
              "        google.colab.kernel.accessAllowed ? 'block' : 'none';\n",
              "    })();\n",
              "  </script>\n",
              "</div>\n",
              "    </div>\n",
              "  </div>\n"
            ]
          },
          "metadata": {},
          "execution_count": 30
        }
      ],
      "source": [
        "#importing the data from github\n",
        "video_games = pd.read_csv(\"https://raw.githubusercontent.com/harkiran-b/cs280_project/main/Video_Game_Sales_as_of_Jan_2017.csv\")\n",
        "video_games"
      ]
    },
    {
      "cell_type": "code",
      "source": [
        "#Renaming of columns to fit specifications\n",
        "video_games = video_games.rename(columns = {'Name':'name', 'Platform':'console', 'Year_of_Release':'release_year', 'Genre':'genre', 'Publisher':'publisher',\n",
        "                              'NA_Sales':'sales_in_north_a', 'EU_Sales':'sales_in_europe', 'JP_Sales':'sales_in_japan', 'Other_Sales':'other_sales',\n",
        "                              'Global_Sales':'total_global_sales', 'Critic_Score':'critic_score', 'Critic_Count':'num_critic_reviews',\n",
        "                              'User_Score':'user_score', 'User_Count':'num_user_reviews', 'Rating':'rating_ESRB'})\n",
        "video_games"
      ],
      "metadata": {
        "colab": {
          "base_uri": "https://localhost:8080/",
          "height": 739
        },
        "id": "uzQ11GcMPY7y",
        "outputId": "11263390-aba6-481f-9feb-77155eb80cc1"
      },
      "execution_count": 31,
      "outputs": [
        {
          "output_type": "execute_result",
          "data": {
            "text/plain": [
              "                                                   name console  release_year  \\\n",
              "0                                            Wii Sports     Wii        2006.0   \n",
              "1                                     Super Mario Bros.     NES        1985.0   \n",
              "2                                        Mario Kart Wii     Wii        2008.0   \n",
              "3                                     Wii Sports Resort     Wii        2009.0   \n",
              "4                              Pokemon Red/Pokemon Blue       G        1996.0   \n",
              "...                                                 ...     ...           ...   \n",
              "17411  Nancy Drew: The Deadly Secret of Olde World Park      DS        2007.0   \n",
              "17412                      Fashion Designer: Style Icon      DS        2007.0   \n",
              "17413            Ashita no Joe 2: The Anime Super Remix     PS2        2002.0   \n",
              "17414            NadePro!! Kisama no Seiyuu Yatte Miro!     PS2        2009.0   \n",
              "17415                     Brian Lara 2007 Pressure Play     PSP        2007.0   \n",
              "\n",
              "              genre              publisher  sales_in_north_a  sales_in_europe  \\\n",
              "0            Sports               Nintendo             41.36            28.96   \n",
              "1          Platform               Nintendo             29.08             3.58   \n",
              "2            Racing               Nintendo             15.68            12.80   \n",
              "3            Sports               Nintendo             15.61            10.95   \n",
              "4      Role-Playing               Nintendo             11.27             8.89   \n",
              "...             ...                    ...               ...              ...   \n",
              "17411     Adventure  Majesco Entertainment              0.00             0.00   \n",
              "17412    Simulation              505 Games              0.00             0.00   \n",
              "17413      Fighting                 Capcom              0.00             0.00   \n",
              "17414     Adventure                 GungHo              0.00             0.00   \n",
              "17415        Sports            Codemasters              0.00             0.00   \n",
              "\n",
              "       sales_in_japan  other_sales  total_global_sales  critic_score  \\\n",
              "0                3.77         8.45               82.54          76.0   \n",
              "1                6.81         0.77               40.24           NaN   \n",
              "2                3.79         3.29               35.57          82.0   \n",
              "3                3.28         2.95               32.78          80.0   \n",
              "4               10.22         1.00               31.37           NaN   \n",
              "...               ...          ...                 ...           ...   \n",
              "17411            0.00         0.00                0.01          64.0   \n",
              "17412            0.00         0.00                0.01           NaN   \n",
              "17413            0.01         0.00                0.01           NaN   \n",
              "17414            0.01         0.00                0.01           NaN   \n",
              "17415            0.00         0.00                0.01           NaN   \n",
              "\n",
              "       num_critic_reviews  user_score  num_user_reviews rating_ESRB  \n",
              "0                    51.0         8.0             324.0           E  \n",
              "1                     NaN         NaN               NaN         NaN  \n",
              "2                    73.0         8.3             712.0           E  \n",
              "3                    73.0         8.0             193.0           E  \n",
              "4                     NaN         NaN               NaN         NaN  \n",
              "...                   ...         ...               ...         ...  \n",
              "17411                 7.0         NaN               NaN           E  \n",
              "17412                 NaN         NaN               NaN         NaN  \n",
              "17413                 NaN         NaN               NaN         NaN  \n",
              "17414                 NaN         NaN               NaN         NaN  \n",
              "17415                 NaN         NaN               NaN         NaN  \n",
              "\n",
              "[17416 rows x 15 columns]"
            ],
            "text/html": [
              "\n",
              "  <div id=\"df-56b7ba05-51d5-45b3-97f6-63f72e9ada51\" class=\"colab-df-container\">\n",
              "    <div>\n",
              "<style scoped>\n",
              "    .dataframe tbody tr th:only-of-type {\n",
              "        vertical-align: middle;\n",
              "    }\n",
              "\n",
              "    .dataframe tbody tr th {\n",
              "        vertical-align: top;\n",
              "    }\n",
              "\n",
              "    .dataframe thead th {\n",
              "        text-align: right;\n",
              "    }\n",
              "</style>\n",
              "<table border=\"1\" class=\"dataframe\">\n",
              "  <thead>\n",
              "    <tr style=\"text-align: right;\">\n",
              "      <th></th>\n",
              "      <th>name</th>\n",
              "      <th>console</th>\n",
              "      <th>release_year</th>\n",
              "      <th>genre</th>\n",
              "      <th>publisher</th>\n",
              "      <th>sales_in_north_a</th>\n",
              "      <th>sales_in_europe</th>\n",
              "      <th>sales_in_japan</th>\n",
              "      <th>other_sales</th>\n",
              "      <th>total_global_sales</th>\n",
              "      <th>critic_score</th>\n",
              "      <th>num_critic_reviews</th>\n",
              "      <th>user_score</th>\n",
              "      <th>num_user_reviews</th>\n",
              "      <th>rating_ESRB</th>\n",
              "    </tr>\n",
              "  </thead>\n",
              "  <tbody>\n",
              "    <tr>\n",
              "      <th>0</th>\n",
              "      <td>Wii Sports</td>\n",
              "      <td>Wii</td>\n",
              "      <td>2006.0</td>\n",
              "      <td>Sports</td>\n",
              "      <td>Nintendo</td>\n",
              "      <td>41.36</td>\n",
              "      <td>28.96</td>\n",
              "      <td>3.77</td>\n",
              "      <td>8.45</td>\n",
              "      <td>82.54</td>\n",
              "      <td>76.0</td>\n",
              "      <td>51.0</td>\n",
              "      <td>8.0</td>\n",
              "      <td>324.0</td>\n",
              "      <td>E</td>\n",
              "    </tr>\n",
              "    <tr>\n",
              "      <th>1</th>\n",
              "      <td>Super Mario Bros.</td>\n",
              "      <td>NES</td>\n",
              "      <td>1985.0</td>\n",
              "      <td>Platform</td>\n",
              "      <td>Nintendo</td>\n",
              "      <td>29.08</td>\n",
              "      <td>3.58</td>\n",
              "      <td>6.81</td>\n",
              "      <td>0.77</td>\n",
              "      <td>40.24</td>\n",
              "      <td>NaN</td>\n",
              "      <td>NaN</td>\n",
              "      <td>NaN</td>\n",
              "      <td>NaN</td>\n",
              "      <td>NaN</td>\n",
              "    </tr>\n",
              "    <tr>\n",
              "      <th>2</th>\n",
              "      <td>Mario Kart Wii</td>\n",
              "      <td>Wii</td>\n",
              "      <td>2008.0</td>\n",
              "      <td>Racing</td>\n",
              "      <td>Nintendo</td>\n",
              "      <td>15.68</td>\n",
              "      <td>12.80</td>\n",
              "      <td>3.79</td>\n",
              "      <td>3.29</td>\n",
              "      <td>35.57</td>\n",
              "      <td>82.0</td>\n",
              "      <td>73.0</td>\n",
              "      <td>8.3</td>\n",
              "      <td>712.0</td>\n",
              "      <td>E</td>\n",
              "    </tr>\n",
              "    <tr>\n",
              "      <th>3</th>\n",
              "      <td>Wii Sports Resort</td>\n",
              "      <td>Wii</td>\n",
              "      <td>2009.0</td>\n",
              "      <td>Sports</td>\n",
              "      <td>Nintendo</td>\n",
              "      <td>15.61</td>\n",
              "      <td>10.95</td>\n",
              "      <td>3.28</td>\n",
              "      <td>2.95</td>\n",
              "      <td>32.78</td>\n",
              "      <td>80.0</td>\n",
              "      <td>73.0</td>\n",
              "      <td>8.0</td>\n",
              "      <td>193.0</td>\n",
              "      <td>E</td>\n",
              "    </tr>\n",
              "    <tr>\n",
              "      <th>4</th>\n",
              "      <td>Pokemon Red/Pokemon Blue</td>\n",
              "      <td>G</td>\n",
              "      <td>1996.0</td>\n",
              "      <td>Role-Playing</td>\n",
              "      <td>Nintendo</td>\n",
              "      <td>11.27</td>\n",
              "      <td>8.89</td>\n",
              "      <td>10.22</td>\n",
              "      <td>1.00</td>\n",
              "      <td>31.37</td>\n",
              "      <td>NaN</td>\n",
              "      <td>NaN</td>\n",
              "      <td>NaN</td>\n",
              "      <td>NaN</td>\n",
              "      <td>NaN</td>\n",
              "    </tr>\n",
              "    <tr>\n",
              "      <th>...</th>\n",
              "      <td>...</td>\n",
              "      <td>...</td>\n",
              "      <td>...</td>\n",
              "      <td>...</td>\n",
              "      <td>...</td>\n",
              "      <td>...</td>\n",
              "      <td>...</td>\n",
              "      <td>...</td>\n",
              "      <td>...</td>\n",
              "      <td>...</td>\n",
              "      <td>...</td>\n",
              "      <td>...</td>\n",
              "      <td>...</td>\n",
              "      <td>...</td>\n",
              "      <td>...</td>\n",
              "    </tr>\n",
              "    <tr>\n",
              "      <th>17411</th>\n",
              "      <td>Nancy Drew: The Deadly Secret of Olde World Park</td>\n",
              "      <td>DS</td>\n",
              "      <td>2007.0</td>\n",
              "      <td>Adventure</td>\n",
              "      <td>Majesco Entertainment</td>\n",
              "      <td>0.00</td>\n",
              "      <td>0.00</td>\n",
              "      <td>0.00</td>\n",
              "      <td>0.00</td>\n",
              "      <td>0.01</td>\n",
              "      <td>64.0</td>\n",
              "      <td>7.0</td>\n",
              "      <td>NaN</td>\n",
              "      <td>NaN</td>\n",
              "      <td>E</td>\n",
              "    </tr>\n",
              "    <tr>\n",
              "      <th>17412</th>\n",
              "      <td>Fashion Designer: Style Icon</td>\n",
              "      <td>DS</td>\n",
              "      <td>2007.0</td>\n",
              "      <td>Simulation</td>\n",
              "      <td>505 Games</td>\n",
              "      <td>0.00</td>\n",
              "      <td>0.00</td>\n",
              "      <td>0.00</td>\n",
              "      <td>0.00</td>\n",
              "      <td>0.01</td>\n",
              "      <td>NaN</td>\n",
              "      <td>NaN</td>\n",
              "      <td>NaN</td>\n",
              "      <td>NaN</td>\n",
              "      <td>NaN</td>\n",
              "    </tr>\n",
              "    <tr>\n",
              "      <th>17413</th>\n",
              "      <td>Ashita no Joe 2: The Anime Super Remix</td>\n",
              "      <td>PS2</td>\n",
              "      <td>2002.0</td>\n",
              "      <td>Fighting</td>\n",
              "      <td>Capcom</td>\n",
              "      <td>0.00</td>\n",
              "      <td>0.00</td>\n",
              "      <td>0.01</td>\n",
              "      <td>0.00</td>\n",
              "      <td>0.01</td>\n",
              "      <td>NaN</td>\n",
              "      <td>NaN</td>\n",
              "      <td>NaN</td>\n",
              "      <td>NaN</td>\n",
              "      <td>NaN</td>\n",
              "    </tr>\n",
              "    <tr>\n",
              "      <th>17414</th>\n",
              "      <td>NadePro!! Kisama no Seiyuu Yatte Miro!</td>\n",
              "      <td>PS2</td>\n",
              "      <td>2009.0</td>\n",
              "      <td>Adventure</td>\n",
              "      <td>GungHo</td>\n",
              "      <td>0.00</td>\n",
              "      <td>0.00</td>\n",
              "      <td>0.01</td>\n",
              "      <td>0.00</td>\n",
              "      <td>0.01</td>\n",
              "      <td>NaN</td>\n",
              "      <td>NaN</td>\n",
              "      <td>NaN</td>\n",
              "      <td>NaN</td>\n",
              "      <td>NaN</td>\n",
              "    </tr>\n",
              "    <tr>\n",
              "      <th>17415</th>\n",
              "      <td>Brian Lara 2007 Pressure Play</td>\n",
              "      <td>PSP</td>\n",
              "      <td>2007.0</td>\n",
              "      <td>Sports</td>\n",
              "      <td>Codemasters</td>\n",
              "      <td>0.00</td>\n",
              "      <td>0.00</td>\n",
              "      <td>0.00</td>\n",
              "      <td>0.00</td>\n",
              "      <td>0.01</td>\n",
              "      <td>NaN</td>\n",
              "      <td>NaN</td>\n",
              "      <td>NaN</td>\n",
              "      <td>NaN</td>\n",
              "      <td>NaN</td>\n",
              "    </tr>\n",
              "  </tbody>\n",
              "</table>\n",
              "<p>17416 rows × 15 columns</p>\n",
              "</div>\n",
              "    <div class=\"colab-df-buttons\">\n",
              "\n",
              "  <div class=\"colab-df-container\">\n",
              "    <button class=\"colab-df-convert\" onclick=\"convertToInteractive('df-56b7ba05-51d5-45b3-97f6-63f72e9ada51')\"\n",
              "            title=\"Convert this dataframe to an interactive table.\"\n",
              "            style=\"display:none;\">\n",
              "\n",
              "  <svg xmlns=\"http://www.w3.org/2000/svg\" height=\"24px\" viewBox=\"0 -960 960 960\">\n",
              "    <path d=\"M120-120v-720h720v720H120Zm60-500h600v-160H180v160Zm220 220h160v-160H400v160Zm0 220h160v-160H400v160ZM180-400h160v-160H180v160Zm440 0h160v-160H620v160ZM180-180h160v-160H180v160Zm440 0h160v-160H620v160Z\"/>\n",
              "  </svg>\n",
              "    </button>\n",
              "\n",
              "  <style>\n",
              "    .colab-df-container {\n",
              "      display:flex;\n",
              "      gap: 12px;\n",
              "    }\n",
              "\n",
              "    .colab-df-convert {\n",
              "      background-color: #E8F0FE;\n",
              "      border: none;\n",
              "      border-radius: 50%;\n",
              "      cursor: pointer;\n",
              "      display: none;\n",
              "      fill: #1967D2;\n",
              "      height: 32px;\n",
              "      padding: 0 0 0 0;\n",
              "      width: 32px;\n",
              "    }\n",
              "\n",
              "    .colab-df-convert:hover {\n",
              "      background-color: #E2EBFA;\n",
              "      box-shadow: 0px 1px 2px rgba(60, 64, 67, 0.3), 0px 1px 3px 1px rgba(60, 64, 67, 0.15);\n",
              "      fill: #174EA6;\n",
              "    }\n",
              "\n",
              "    .colab-df-buttons div {\n",
              "      margin-bottom: 4px;\n",
              "    }\n",
              "\n",
              "    [theme=dark] .colab-df-convert {\n",
              "      background-color: #3B4455;\n",
              "      fill: #D2E3FC;\n",
              "    }\n",
              "\n",
              "    [theme=dark] .colab-df-convert:hover {\n",
              "      background-color: #434B5C;\n",
              "      box-shadow: 0px 1px 3px 1px rgba(0, 0, 0, 0.15);\n",
              "      filter: drop-shadow(0px 1px 2px rgba(0, 0, 0, 0.3));\n",
              "      fill: #FFFFFF;\n",
              "    }\n",
              "  </style>\n",
              "\n",
              "    <script>\n",
              "      const buttonEl =\n",
              "        document.querySelector('#df-56b7ba05-51d5-45b3-97f6-63f72e9ada51 button.colab-df-convert');\n",
              "      buttonEl.style.display =\n",
              "        google.colab.kernel.accessAllowed ? 'block' : 'none';\n",
              "\n",
              "      async function convertToInteractive(key) {\n",
              "        const element = document.querySelector('#df-56b7ba05-51d5-45b3-97f6-63f72e9ada51');\n",
              "        const dataTable =\n",
              "          await google.colab.kernel.invokeFunction('convertToInteractive',\n",
              "                                                    [key], {});\n",
              "        if (!dataTable) return;\n",
              "\n",
              "        const docLinkHtml = 'Like what you see? Visit the ' +\n",
              "          '<a target=\"_blank\" href=https://colab.research.google.com/notebooks/data_table.ipynb>data table notebook</a>'\n",
              "          + ' to learn more about interactive tables.';\n",
              "        element.innerHTML = '';\n",
              "        dataTable['output_type'] = 'display_data';\n",
              "        await google.colab.output.renderOutput(dataTable, element);\n",
              "        const docLink = document.createElement('div');\n",
              "        docLink.innerHTML = docLinkHtml;\n",
              "        element.appendChild(docLink);\n",
              "      }\n",
              "    </script>\n",
              "  </div>\n",
              "\n",
              "\n",
              "<div id=\"df-58241d25-5078-4375-ac03-92533ffaff85\">\n",
              "  <button class=\"colab-df-quickchart\" onclick=\"quickchart('df-58241d25-5078-4375-ac03-92533ffaff85')\"\n",
              "            title=\"Suggest charts\"\n",
              "            style=\"display:none;\">\n",
              "\n",
              "<svg xmlns=\"http://www.w3.org/2000/svg\" height=\"24px\"viewBox=\"0 0 24 24\"\n",
              "     width=\"24px\">\n",
              "    <g>\n",
              "        <path d=\"M19 3H5c-1.1 0-2 .9-2 2v14c0 1.1.9 2 2 2h14c1.1 0 2-.9 2-2V5c0-1.1-.9-2-2-2zM9 17H7v-7h2v7zm4 0h-2V7h2v10zm4 0h-2v-4h2v4z\"/>\n",
              "    </g>\n",
              "</svg>\n",
              "  </button>\n",
              "\n",
              "<style>\n",
              "  .colab-df-quickchart {\n",
              "      --bg-color: #E8F0FE;\n",
              "      --fill-color: #1967D2;\n",
              "      --hover-bg-color: #E2EBFA;\n",
              "      --hover-fill-color: #174EA6;\n",
              "      --disabled-fill-color: #AAA;\n",
              "      --disabled-bg-color: #DDD;\n",
              "  }\n",
              "\n",
              "  [theme=dark] .colab-df-quickchart {\n",
              "      --bg-color: #3B4455;\n",
              "      --fill-color: #D2E3FC;\n",
              "      --hover-bg-color: #434B5C;\n",
              "      --hover-fill-color: #FFFFFF;\n",
              "      --disabled-bg-color: #3B4455;\n",
              "      --disabled-fill-color: #666;\n",
              "  }\n",
              "\n",
              "  .colab-df-quickchart {\n",
              "    background-color: var(--bg-color);\n",
              "    border: none;\n",
              "    border-radius: 50%;\n",
              "    cursor: pointer;\n",
              "    display: none;\n",
              "    fill: var(--fill-color);\n",
              "    height: 32px;\n",
              "    padding: 0;\n",
              "    width: 32px;\n",
              "  }\n",
              "\n",
              "  .colab-df-quickchart:hover {\n",
              "    background-color: var(--hover-bg-color);\n",
              "    box-shadow: 0 1px 2px rgba(60, 64, 67, 0.3), 0 1px 3px 1px rgba(60, 64, 67, 0.15);\n",
              "    fill: var(--button-hover-fill-color);\n",
              "  }\n",
              "\n",
              "  .colab-df-quickchart-complete:disabled,\n",
              "  .colab-df-quickchart-complete:disabled:hover {\n",
              "    background-color: var(--disabled-bg-color);\n",
              "    fill: var(--disabled-fill-color);\n",
              "    box-shadow: none;\n",
              "  }\n",
              "\n",
              "  .colab-df-spinner {\n",
              "    border: 2px solid var(--fill-color);\n",
              "    border-color: transparent;\n",
              "    border-bottom-color: var(--fill-color);\n",
              "    animation:\n",
              "      spin 1s steps(1) infinite;\n",
              "  }\n",
              "\n",
              "  @keyframes spin {\n",
              "    0% {\n",
              "      border-color: transparent;\n",
              "      border-bottom-color: var(--fill-color);\n",
              "      border-left-color: var(--fill-color);\n",
              "    }\n",
              "    20% {\n",
              "      border-color: transparent;\n",
              "      border-left-color: var(--fill-color);\n",
              "      border-top-color: var(--fill-color);\n",
              "    }\n",
              "    30% {\n",
              "      border-color: transparent;\n",
              "      border-left-color: var(--fill-color);\n",
              "      border-top-color: var(--fill-color);\n",
              "      border-right-color: var(--fill-color);\n",
              "    }\n",
              "    40% {\n",
              "      border-color: transparent;\n",
              "      border-right-color: var(--fill-color);\n",
              "      border-top-color: var(--fill-color);\n",
              "    }\n",
              "    60% {\n",
              "      border-color: transparent;\n",
              "      border-right-color: var(--fill-color);\n",
              "    }\n",
              "    80% {\n",
              "      border-color: transparent;\n",
              "      border-right-color: var(--fill-color);\n",
              "      border-bottom-color: var(--fill-color);\n",
              "    }\n",
              "    90% {\n",
              "      border-color: transparent;\n",
              "      border-bottom-color: var(--fill-color);\n",
              "    }\n",
              "  }\n",
              "</style>\n",
              "\n",
              "  <script>\n",
              "    async function quickchart(key) {\n",
              "      const quickchartButtonEl =\n",
              "        document.querySelector('#' + key + ' button');\n",
              "      quickchartButtonEl.disabled = true;  // To prevent multiple clicks.\n",
              "      quickchartButtonEl.classList.add('colab-df-spinner');\n",
              "      try {\n",
              "        const charts = await google.colab.kernel.invokeFunction(\n",
              "            'suggestCharts', [key], {});\n",
              "      } catch (error) {\n",
              "        console.error('Error during call to suggestCharts:', error);\n",
              "      }\n",
              "      quickchartButtonEl.classList.remove('colab-df-spinner');\n",
              "      quickchartButtonEl.classList.add('colab-df-quickchart-complete');\n",
              "    }\n",
              "    (() => {\n",
              "      let quickchartButtonEl =\n",
              "        document.querySelector('#df-58241d25-5078-4375-ac03-92533ffaff85 button');\n",
              "      quickchartButtonEl.style.display =\n",
              "        google.colab.kernel.accessAllowed ? 'block' : 'none';\n",
              "    })();\n",
              "  </script>\n",
              "</div>\n",
              "    </div>\n",
              "  </div>\n"
            ]
          },
          "metadata": {},
          "execution_count": 31
        }
      ]
    },
    {
      "cell_type": "markdown",
      "metadata": {
        "id": "umPWTVCxHGot"
      },
      "source": [
        "### 2.1 Summary of Variables within the Video Games Table"
      ]
    },
    {
      "cell_type": "markdown",
      "metadata": {
        "id": "wQx8lXKZHGov"
      },
      "source": [
        "The \"video_games\" table has 15 columns/variables and 17,416 rows. We now explain each variable, giving their units, indicating their types, and providing some descriptive statistics..\n",
        "\n",
        "**Categorical variables:**\n",
        "\n",
        "* **name** – The name/title of the video game\n",
        "  * Number of missing values: 0\n",
        "  * Contains 12,080 distinct values:\n",
        "    * Ex: Wii Sports, Super Mario Bros., God of War, Banjo-Kazooie, Sonic the Hedgehog\n",
        "  * Any other important facts, should you discover them during your analysis.\n",
        "    * Some games are listed more than once due to being released on multiple consoles\n",
        "\n",
        "* **console** – The console that the game was released on\n",
        "    * Number of missing values: 0\n",
        "    * Contains 31 distinct values:\n",
        "        * Ex: 2600 (Atari 2600), G (Gameboy), SCD (Sega CD), GEN (Sega Genesis), SAT (Sega Saturn), WS (WonderSwan), NG (Neo Geo)\n",
        "    * Any other important facts, should you discover them during your analysis.\n",
        "\n",
        "* **release_year** – The year that the game was initially released\n",
        "    * Number of missing values: 8\n",
        "    * Contains 42 distinct values:\n",
        "        * Ex: 1999, 2008, 2013\n",
        "    * Any other important facts, should you discover them during your analysis.\n",
        "\n",
        "* **genre** – The primary classification of the game based on how it is played\n",
        "    * Number of missing values: 0\n",
        "    * Contains 12 distinct values:\n",
        "        * Sports - inspired by/based around actual sports\n",
        "        * Platform - primary focus is traversing across areas\n",
        "        * Racing - players race vehicles in fantasy areas or simulated real-world tracks\n",
        "        * Role-Playing - character grows in strength and experience as the game progresses\n",
        "        * Puzzle - solve various puzzles like Sudoku\n",
        "        * Misc - catch-all category for other sub-genres such as fitness, rhythm, trivia, and sandbox\n",
        "        * Shooter - players participate in action by using ranged weapons against other players/enemies\n",
        "        * Simulation - simulating real world or ficitional scenarios\n",
        "        * Action - focuses on challenges that require hand-eye coordination and fine motor skills\n",
        "        * Fighting - focuses on close-ranged combat, mostly one-on-one brawls\n",
        "        * Adventure - explore environments through character interactions or puzzles\n",
        "        * Strategy - requires careful thinking and planning to progress\n",
        "    * Any other important facts, should you discover them during your analysis.\n",
        "        * Some games are categorized by multiple genres, but the dataset lists the main genre in the column.\n",
        "        * Misceallneous does not mean that a game is classified by multiple genres\n",
        "\n",
        "* **publisher** – The name of the company that published the game\n",
        "    * Number of missing values: 1\n",
        "    * Contains 627 distinct values:\n",
        "        * Ex: Nintendo, SEGA, Activision, Blizzard, Square Enix\n",
        "    * Any other important facts, should you discover them during your analysis.\n",
        "\n",
        "* **rating_ESRB** – The rating the Entertainment Software Ratings Board gave the game\n",
        "    * Number of missing values: 7,164\n",
        "    * Contains 8 distinct values:\n",
        "        * E - For everyone, any age can play\n",
        "        * M - For Mature audiences, ages 17 and up\n",
        "        * T - for teens, ages 13 and up\n",
        "        * E10+ - For everyone ages 10 and up\n",
        "        * K-A - Kids to adults\n",
        "        * AO - For Adults, ages 18 and up\n",
        "        * EC - Early childhood\n",
        "        * RP - Rating Pending, has not been assigned a final rating\n",
        "    * Any other important facts, should you discover them during your analysis.\n",
        "        * The ESRB only provides ratings for North America. Europe uses PEGI (Pan-European Game Information) and Japan uses CERO (Computer Entertainment Rating Organization). So, the rows (games) without an ESRB rating were either released before the ERSB was established or they were only released in Eurpoe or Japan.\n",
        "        * The 'K-A' rating was replaced with the 'E' rating in 1998, and the 'EC' rating was discontinued in 2018 as it still fits under the 'E' rating\n",
        "\n",
        "**Continuous variables:**\n",
        "\n",
        "* **column_name** – description\n",
        "    * Number of missing values:\n",
        "    * Units: if necessary; delete otherwise.\n",
        "    * max value: XXX\n",
        "    * min value: XXX\n",
        "    * average value:\n",
        "    * Any other important facts, should you discover them during your analysis.\n",
        "\n",
        "* **sales_in_north_a** - Sales in North America (in millions)\n",
        "    * Number of missing values: 0\n",
        "    * Units: Millions\n",
        "    * max value: 41.36\n",
        "    * min value: 0\n",
        "    * average value: 0.2545\n",
        "\n",
        "* **sales_in_europe** - Sales in Europe (in millions)\n",
        "    * Number of missing values: 0\n",
        "    * Units: Millions\n",
        "    * max value: 28.96\n",
        "    * min value: 0\n",
        "    * average value: 0.1407\n",
        "\n",
        "* **sales_in_japan** - Sales in Japan (in millions)\n",
        "    * Number of missing values: 0\n",
        "    * Units: Millions\n",
        "    * max value: 10.22\n",
        "    * min value: 0\n",
        "    * average value: 0.075\n",
        "\n",
        "* **other_sales** - Sales in the rest of the world (in millions)\n",
        "    * Number of missing values: 0\n",
        "    * Units: Millions\n",
        "    * max value: 10.57\n",
        "    * min value: 0\n",
        "    * average value: 0.0459\n",
        "\n",
        "* **total_global_sales** - Total worldwide sales (in millions)\n",
        "    * Number of missing values: 0\n",
        "    * Units: Millions\n",
        "    * max value: 82.54\n",
        "    * min value: 0\n",
        "    * average value: 0.5164\n",
        "\n",
        "**Quantitative Discrete Variables:**\n",
        "\n",
        "* **user_score** – The average score given by users on Metacritic\n",
        "    * Number of missing values: 9,618\n",
        "    * max value: 9.7\n",
        "    * min value: 0.0\n",
        "    * average value: 7.117056\n",
        "    * The user score rating is out of 10\n",
        "\n",
        "* **num_user_reviews** – The number of users that left a score/review on a game\n",
        "    * Number of missing values: 9,618\n",
        "    * max value: 10,766\n",
        "    * min value: 4\n",
        "    * average value: 162.672480\n",
        "\n",
        "* **critic_score** - Aggregate score compiled by Metacritic staff\n",
        "    * Number of missing values: 9080\n",
        "    * Units: #/100\n",
        "    * max value: 98.00\n",
        "    * min value: 13.00\n",
        "    * average value: 68.9125\n",
        "\n",
        "* **num_critic_reviews** - The number of critics used in coming up with the critic score\n",
        "    * Number of missing values: 9080\n",
        "    * Units: #/100\n",
        "    * max value: 113.00\n",
        "    * min value: 3.00\n",
        "    * average value: 26.1920"
      ]
    },
    {
      "cell_type": "markdown",
      "metadata": {
        "id": "0n3dznNFHGow"
      },
      "source": [
        "### 2.2 Code used to Summarize Variables"
      ]
    },
    {
      "cell_type": "markdown",
      "metadata": {
        "id": "6mOR9WXxHGox"
      },
      "source": [
        "In this section we include the code used to describe the variables in the previous section.  "
      ]
    },
    {
      "cell_type": "code",
      "source": [
        "#1: Descriptive Stats for \"name\"\n",
        "print(video_games['name'].nunique(),'unique values\\n', video_games['name'].isna().sum(), 'missing values')"
      ],
      "metadata": {
        "colab": {
          "base_uri": "https://localhost:8080/"
        },
        "id": "P7HT3-sRF4Ta",
        "outputId": "642e6c87-af8a-44e7-c18a-59bde4fae714"
      },
      "execution_count": 32,
      "outputs": [
        {
          "output_type": "stream",
          "name": "stdout",
          "text": [
            "12080 unique values\n",
            " 0 missing values\n"
          ]
        }
      ]
    },
    {
      "cell_type": "code",
      "source": [
        "#2: Descriptive Stats for \"console\"\n",
        "num_consoles = video_games['console'].nunique()\n",
        "print(num_consoles,'unique values\\n',video_games['console'].isna().sum(), 'missing values\\n', video_games['console'].unique())"
      ],
      "metadata": {
        "colab": {
          "base_uri": "https://localhost:8080/"
        },
        "id": "PsSsu-b2F60B",
        "outputId": "2d6b662c-fb05-4d5e-bbfb-6a3db6351be5"
      },
      "execution_count": 33,
      "outputs": [
        {
          "output_type": "stream",
          "name": "stdout",
          "text": [
            "31 unique values\n",
            " 0 missing values\n",
            " ['Wii' 'NES' 'G' 'DS' 'X360' 'PS3' 'PS2' 'SNES' 'GBA' '3DS' 'PS4' 'N64'\n",
            " 'PS' 'X' 'PC' '2600' 'PSP' 'XOne' 'WiiU' 'GC' 'GEN' 'DC' 'PSV' 'SAT'\n",
            " 'SCD' 'WS' 'NG' 'TG16' '3DO' 'GG' 'PCFX']\n"
          ]
        }
      ]
    },
    {
      "cell_type": "code",
      "source": [
        "#3: Descriptive Stats for \"release_year\"\n",
        "print(video_games['release_year'].nunique(),'unique values\\n', video_games['release_year'].isna().sum(),'missing values')"
      ],
      "metadata": {
        "colab": {
          "base_uri": "https://localhost:8080/"
        },
        "id": "49R-FAunF9Uz",
        "outputId": "e17fdb7f-be4a-4b4a-e845-99659fd05554"
      },
      "execution_count": 34,
      "outputs": [
        {
          "output_type": "stream",
          "name": "stdout",
          "text": [
            "42 unique values\n",
            " 8 missing values\n"
          ]
        }
      ]
    },
    {
      "cell_type": "code",
      "source": [
        "#4: Descriptive Stats for \"genre\"\n",
        "num_genres = video_games['genre'].nunique()\n",
        "print(num_genres,'unique values\\n', video_games['genre'].isna().sum(), 'missing values\\n',video_games['genre'].unique())"
      ],
      "metadata": {
        "colab": {
          "base_uri": "https://localhost:8080/"
        },
        "id": "iiN9eO4yGASI",
        "outputId": "3e33501d-e456-40fb-f77b-18b961a25fc8"
      },
      "execution_count": 35,
      "outputs": [
        {
          "output_type": "stream",
          "name": "stdout",
          "text": [
            "12 unique values\n",
            " 0 missing values\n",
            " ['Sports' 'Platform' 'Racing' 'Role-Playing' 'Puzzle' 'Misc' 'Shooter'\n",
            " 'Simulation' 'Action' 'Fighting' 'Adventure' 'Strategy']\n"
          ]
        }
      ]
    },
    {
      "cell_type": "code",
      "source": [
        "#5: Descriptive Stats for \"publisher\"\n",
        "print(video_games['publisher'].nunique(),'unique values\\n', video_games['publisher'].isna().sum(),'missing values')"
      ],
      "metadata": {
        "colab": {
          "base_uri": "https://localhost:8080/"
        },
        "id": "JSPmAzSrGDAm",
        "outputId": "b54704a9-123e-40c5-bcfc-efcbe3b51857"
      },
      "execution_count": 36,
      "outputs": [
        {
          "output_type": "stream",
          "name": "stdout",
          "text": [
            "627 unique values\n",
            " 1 missing values\n"
          ]
        }
      ]
    },
    {
      "cell_type": "code",
      "source": [
        "#6: Descriptive Stats for \"rating_ESRB\"\n",
        "num_ESRB_ratings = video_games['rating_ESRB'].nunique()\n",
        "print(num_ESRB_ratings,'unique values\\n', video_games['rating_ESRB'].isna().sum(), 'missing values\\n',video_games['rating_ESRB'].unique())"
      ],
      "metadata": {
        "colab": {
          "base_uri": "https://localhost:8080/"
        },
        "id": "XzxMpIuKGFK2",
        "outputId": "08eadb15-2dda-4ca2-d9f4-3193921236a2"
      },
      "execution_count": 37,
      "outputs": [
        {
          "output_type": "stream",
          "name": "stdout",
          "text": [
            "8 unique values\n",
            " 7164 missing values\n",
            " ['E' nan 'M' 'T' 'E10+' 'K-A' 'AO' 'EC' 'RP']\n"
          ]
        }
      ]
    },
    {
      "cell_type": "code",
      "source": [
        "#7: Descriptive Stats for \"user_score\"\n",
        "print(video_games['user_score'].isna().sum(),'missing values\\n', video_games['user_score'].describe())"
      ],
      "metadata": {
        "colab": {
          "base_uri": "https://localhost:8080/"
        },
        "id": "7I3ejhKxGHmk",
        "outputId": "f22e203c-d3b4-49ee-df35-ba09dc42b833"
      },
      "execution_count": 38,
      "outputs": [
        {
          "output_type": "stream",
          "name": "stdout",
          "text": [
            "9618 missing values\n",
            " count    7798.000000\n",
            "mean        7.117056\n",
            "std         1.502410\n",
            "min         0.000000\n",
            "25%         6.400000\n",
            "50%         7.500000\n",
            "75%         8.200000\n",
            "max         9.700000\n",
            "Name: user_score, dtype: float64\n"
          ]
        }
      ]
    },
    {
      "cell_type": "code",
      "source": [
        "#8: Descriptive Stats for \"num_user_reviews\"\n",
        "print(video_games['num_user_reviews'].isna().sum(),'missing values\\n', video_games['num_user_reviews'].describe())"
      ],
      "metadata": {
        "colab": {
          "base_uri": "https://localhost:8080/"
        },
        "id": "_pT-y2o-GK6J",
        "outputId": "84e8fcbf-7254-4211-a53d-3c82f322c0d1"
      },
      "execution_count": 39,
      "outputs": [
        {
          "output_type": "stream",
          "name": "stdout",
          "text": [
            "9618 missing values\n",
            " count     7798.000000\n",
            "mean       162.672480\n",
            "std        562.837954\n",
            "min          4.000000\n",
            "25%         10.000000\n",
            "50%         25.000000\n",
            "75%         81.000000\n",
            "max      10766.000000\n",
            "Name: num_user_reviews, dtype: float64\n"
          ]
        }
      ]
    },
    {
      "cell_type": "code",
      "source": [
        "#9: Descriptive Stats for \"sales_in_north_a\"\n",
        "print('Missing values: ', video_games['sales_in_north_a'].isna().sum(),\n",
        "      '\\nDescriptive Stats:\\n', video_games['sales_in_north_a'].describe())"
      ],
      "metadata": {
        "colab": {
          "base_uri": "https://localhost:8080/"
        },
        "id": "Ll5dUoKcFHPQ",
        "outputId": "73300618-f912-431c-cc32-cb1ab913a0ca"
      },
      "execution_count": 40,
      "outputs": [
        {
          "output_type": "stream",
          "name": "stdout",
          "text": [
            "Missing values:  0 \n",
            "Descriptive Stats:\n",
            " count    17416.000000\n",
            "mean         0.254534\n",
            "std          0.800673\n",
            "min          0.000000\n",
            "25%          0.000000\n",
            "50%          0.070000\n",
            "75%          0.230000\n",
            "max         41.360000\n",
            "Name: sales_in_north_a, dtype: float64\n"
          ]
        }
      ]
    },
    {
      "cell_type": "code",
      "source": [
        "#10: Descriptive Stats for \"sales_in_europe\"\n",
        "print('Missing values: ', video_games['sales_in_europe'].isna().sum(),\n",
        "      '\\nDescriptive Stats:\\n', video_games['sales_in_europe'].describe())"
      ],
      "metadata": {
        "colab": {
          "base_uri": "https://localhost:8080/"
        },
        "id": "zSUn-kxOFPEp",
        "outputId": "e96d307f-8279-429e-a124-e2da9ae3b629"
      },
      "execution_count": 41,
      "outputs": [
        {
          "output_type": "stream",
          "name": "stdout",
          "text": [
            "Missing values:  0 \n",
            "Descriptive Stats:\n",
            " count    17416.000000\n",
            "mean         0.140727\n",
            "std          0.497341\n",
            "min          0.000000\n",
            "25%          0.000000\n",
            "50%          0.020000\n",
            "75%          0.100000\n",
            "max         28.960000\n",
            "Name: sales_in_europe, dtype: float64\n"
          ]
        }
      ]
    },
    {
      "cell_type": "code",
      "source": [
        "#11: Descriptive Stats for \"sales_in_japan\"\n",
        "print('Missing values: ', video_games['sales_in_japan'].isna().sum(),\n",
        "      '\\nDescriptive Stats:\\n', video_games['sales_in_japan'].describe())"
      ],
      "metadata": {
        "colab": {
          "base_uri": "https://localhost:8080/"
        },
        "id": "l9zcTd4fFSYi",
        "outputId": "40140777-624a-4c60-d87b-12dbc60095e6"
      },
      "execution_count": 42,
      "outputs": [
        {
          "output_type": "stream",
          "name": "stdout",
          "text": [
            "Missing values:  0 \n",
            "Descriptive Stats:\n",
            " count    17416.000000\n",
            "mean         0.075020\n",
            "std          0.303412\n",
            "min          0.000000\n",
            "25%          0.000000\n",
            "50%          0.000000\n",
            "75%          0.030000\n",
            "max         10.220000\n",
            "Name: sales_in_japan, dtype: float64\n"
          ]
        }
      ]
    },
    {
      "cell_type": "code",
      "source": [
        "#12: Descriptive Stats for \"other_sales\"\n",
        "print('Missing values: ', video_games['other_sales'].isna().sum(),\n",
        "      '\\nDescriptive Stats:\\n', video_games['other_sales'].describe())"
      ],
      "metadata": {
        "colab": {
          "base_uri": "https://localhost:8080/"
        },
        "id": "WfXASD2jFSNX",
        "outputId": "1200b666-897c-40ec-ba2d-668c278889d9"
      },
      "execution_count": 43,
      "outputs": [
        {
          "output_type": "stream",
          "name": "stdout",
          "text": [
            "Missing values:  0 \n",
            "Descriptive Stats:\n",
            " count    17416.000000\n",
            "mean         0.045908\n",
            "std          0.183932\n",
            "min          0.000000\n",
            "25%          0.000000\n",
            "50%          0.010000\n",
            "75%          0.030000\n",
            "max         10.570000\n",
            "Name: other_sales, dtype: float64\n"
          ]
        }
      ]
    },
    {
      "cell_type": "code",
      "source": [
        "#13: Descriptive Stats for \"total_global_sales\"\n",
        "print('Missing values: ', video_games['total_global_sales'].isna().sum(),\n",
        "      '\\nDescriptive Stats:\\n', video_games['total_global_sales'].describe())"
      ],
      "metadata": {
        "colab": {
          "base_uri": "https://localhost:8080/"
        },
        "id": "B-Y8vZQBFR6i",
        "outputId": "8b589a6b-86ca-45b3-e4e8-c6a76ae33526"
      },
      "execution_count": 44,
      "outputs": [
        {
          "output_type": "stream",
          "name": "stdout",
          "text": [
            "Missing values:  0 \n",
            "Descriptive Stats:\n",
            " count    17416.000000\n",
            "mean         0.516469\n",
            "std          1.526124\n",
            "min          0.010000\n",
            "25%          0.050000\n",
            "50%          0.160000\n",
            "75%          0.450000\n",
            "max         82.540000\n",
            "Name: total_global_sales, dtype: float64\n"
          ]
        }
      ]
    },
    {
      "cell_type": "code",
      "source": [
        "#14: Descriptive Stats for \"critic_score\"\n",
        "print('Missing values: ', video_games['critic_score'].isna().sum(),\n",
        "      '\\nDescriptive Stats:\\n', video_games['critic_score'].describe())"
      ],
      "metadata": {
        "colab": {
          "base_uri": "https://localhost:8080/"
        },
        "id": "tM4s0iA9Fbod",
        "outputId": "752fbf22-a755-4490-fdd4-f6103035e61c"
      },
      "execution_count": 45,
      "outputs": [
        {
          "output_type": "stream",
          "name": "stdout",
          "text": [
            "Missing values:  9080 \n",
            "Descriptive Stats:\n",
            " count    8336.000000\n",
            "mean       68.912548\n",
            "std        13.964937\n",
            "min        13.000000\n",
            "25%        60.000000\n",
            "50%        71.000000\n",
            "75%        79.000000\n",
            "max        98.000000\n",
            "Name: critic_score, dtype: float64\n"
          ]
        }
      ]
    },
    {
      "cell_type": "code",
      "source": [
        "#15: Descriptive Stats for \"num_critic_reviews\"\n",
        "print('Missing values: ', video_games['num_critic_reviews'].isna().sum(),\n",
        "      '\\nDescriptive Stats:\\n', video_games['num_critic_reviews'].describe())"
      ],
      "metadata": {
        "colab": {
          "base_uri": "https://localhost:8080/"
        },
        "id": "iFFVSRn0FbZ6",
        "outputId": "0c5fc52f-7d61-476b-c953-dc25d347bffa"
      },
      "execution_count": 46,
      "outputs": [
        {
          "output_type": "stream",
          "name": "stdout",
          "text": [
            "Missing values:  9080 \n",
            "Descriptive Stats:\n",
            " count    8336.000000\n",
            "mean       26.192059\n",
            "std        18.991526\n",
            "min         3.000000\n",
            "25%        11.000000\n",
            "50%        21.000000\n",
            "75%        36.000000\n",
            "max       113.000000\n",
            "Name: num_critic_reviews, dtype: float64\n"
          ]
        }
      ]
    },
    {
      "cell_type": "markdown",
      "metadata": {
        "id": "cy26n5LdHGoy"
      },
      "source": [
        "---\n",
        "\n",
        "## Playground"
      ]
    },
    {
      "cell_type": "markdown",
      "source": [
        "#### Vis 1: Exploring the total sales of each region for each genre"
      ],
      "metadata": {
        "id": "duxDKbiq_eJc"
      }
    },
    {
      "cell_type": "code",
      "execution_count": 47,
      "metadata": {
        "id": "bSX6yvSjHGoy",
        "colab": {
          "base_uri": "https://localhost:8080/",
          "height": 487
        },
        "outputId": "db2130dc-d69f-48fe-8495-ec01f384d812"
      },
      "outputs": [
        {
          "output_type": "display_data",
          "data": {
            "text/plain": [
              "<Figure size 1500x500 with 1 Axes>"
            ],
            "image/png": "[encoded data removed]"
          },
          "metadata": {}
        }
      ],
      "source": [
        "grped_genres = video_games.groupby(by=['genre']).agg({'sales_in_north_a':'sum','sales_in_europe':'sum',\n",
        "                                                      'sales_in_japan':'sum','other_sales':'sum'}).reset_index()\n",
        "plt.figure(figsize = (15, 5))\n",
        "sns.barplot(data = grped_genres, x = \"genre\", y = \"sales_in_north_a\", label = \"North America Sales\", color = \"lightblue\", errwidth = 0)\n",
        "sns.barplot(data = grped_genres, x = \"genre\", y = \"sales_in_europe\", label = \"Europe Sales\", color = \"pink\", errwidth = 0,\n",
        "           bottom = grped_genres['sales_in_north_a'])\n",
        "sns.barplot(data = grped_genres, x = \"genre\", y = \"sales_in_japan\", label = \"Japan Sales\", color = \"red\", errwidth = 0,\n",
        "           bottom = grped_genres['sales_in_north_a'] + grped_genres['sales_in_europe'])\n",
        "sns.barplot(data = grped_genres, x = \"genre\", y = \"other_sales\", label = \"Sales in Other Regions\", color = \"lightgreen\", errwidth = 0,\n",
        "           bottom = grped_genres['sales_in_north_a'] + grped_genres['sales_in_europe'] + grped_genres['sales_in_japan'])\n",
        "plt.title(\"Total Global Sales per Genre\")\n",
        "plt.xlabel(\"Genre\")\n",
        "plt.ylabel(\"Global Sales (mil)\")\n",
        "plt.legend();"
      ]
    },
    {
      "cell_type": "markdown",
      "metadata": {
        "id": "yqOi5YyGHGoz"
      },
      "source": [
        "Based on the graph, action games have the greatest total amount of sales for all genres, with sports games following with the second greatest total. North America, for almost all genres, generates the most sales. The sole exception being Role-playing games where Japan has the greatest sales. For each region their 3 most popular genres, based on sales, are Action, Sports, and Shooters for North America, Action, Sports, and Shooters again for Europe, Role-playing, Action, and Sports for Japan, and Action, Sport, and Shooters for other regions."
      ]
    },
    {
      "cell_type": "markdown",
      "source": [
        "#### Vis 2: Do critics rate games higher than users or vice versa?"
      ],
      "metadata": {
        "id": "Ncy0lzUa_bV8"
      }
    },
    {
      "cell_type": "code",
      "execution_count": 48,
      "metadata": {
        "id": "CAFPu74fHGo0",
        "colab": {
          "base_uri": "https://localhost:8080/"
        },
        "outputId": "88ff0729-0d3a-47bc-d8d6-0eacdced54a3"
      },
      "outputs": [
        {
          "output_type": "execute_result",
          "data": {
            "text/plain": [
              "array([8. , nan, 8.3, 8.5, 6.6, 8.4, 8.6, 7.7, 6.3, 7.4, 8.2, 9. , 7.9,\n",
              "       8.1, 8.7, 7.1, 3.4, 5.3, 4.8, 3.2, 8.9, 6.4, 7.8, 8.8, 7.5, 2.6,\n",
              "       7.2, 7. , 9.2, 7.3, 4.9, 4.3, 6.5, 7.6, 5.7, 9.1, 6.9, 9.4, 6.8,\n",
              "       3.5, 6.1, 5.4, 4. , 6.2, 4.5, 9.3, 4.2, 6. , 6.7, 3.7, 4.1, 5.8,\n",
              "       5.6, 5.5, 4.4, 5.9, 4.6, 3.9, 3.1, 2.9, 5.2, 5. , 5.1, 3.3, 4.7,\n",
              "       2.5, 1.9, 3. , 2.7, 2.2, 2. , 9.5, 2.1, 3.6, 2.8, 9.6, 1.8, 3.8,\n",
              "       0. , 1.6, 2.4, 1.7, 1.1, 1. , 0.3, 1.5, 1.2, 0.2, 2.3, 0.5, 1.3,\n",
              "       0.6, 1.4, 0.9, 0.7, 9.7])"
            ]
          },
          "metadata": {},
          "execution_count": 48
        }
      ],
      "source": [
        "video_games['user_score'].unique()"
      ]
    },
    {
      "cell_type": "code",
      "source": [
        "video_games['user_score_scaled'] = video_games['user_score'] * 10"
      ],
      "metadata": {
        "id": "yv5F_E7X4kD6"
      },
      "execution_count": 49,
      "outputs": []
    },
    {
      "cell_type": "code",
      "source": [
        "sns.histplot(data = video_games, x = 'critic_score', stat = 'percent', color = 'green', label = 'critic scores')\n",
        "sns.histplot(data = video_games, x = 'user_score_scaled', stat = 'percent', color = 'red', label = 'user scores')\n",
        "plt.legend()\n",
        "\n",
        "plt.title('Distribution of User Scores and Critic Scores')\n",
        "plt.xlabel('score')"
      ],
      "metadata": {
        "colab": {
          "base_uri": "https://localhost:8080/",
          "height": 489
        },
        "id": "o86NBC-u4mJH",
        "outputId": "88d02a9f-9f19-4c01-bec7-13066943b046"
      },
      "execution_count": 50,
      "outputs": [
        {
          "output_type": "execute_result",
          "data": {
            "text/plain": [
              "Text(0.5, 0, 'score')"
            ]
          },
          "metadata": {},
          "execution_count": 50
        },
        {
          "output_type": "display_data",
          "data": {
            "text/plain": [
              "<Figure size 640x480 with 1 Axes>"
            ],
            "image/png": "[encoded data removed]"
          },
          "metadata": {}
        }
      ]
    },
    {
      "cell_type": "markdown",
      "metadata": {
        "id": "1tQZWRafHGo0"
      },
      "source": [
        "From this visualization we learn that overall, user scores are higher than critic scores. This helps us determine what we want ot look for in our next visualizations. So there is some factor that leads users to score video games higher than critics and we can try to focus in on this with our next visualizations."
      ]
    },
    {
      "cell_type": "markdown",
      "source": [
        "#### Vis 3: Exploring the differences in the number or reviews between critics and users based on genre."
      ],
      "metadata": {
        "id": "Vu6ONKvS_N0h"
      }
    },
    {
      "cell_type": "code",
      "execution_count": 51,
      "metadata": {
        "id": "ITIUSfDAHGo1",
        "colab": {
          "base_uri": "https://localhost:8080/",
          "height": 425
        },
        "outputId": "1199bb42-ff4b-4b50-a75c-a53c30152ea7"
      },
      "outputs": [
        {
          "output_type": "execute_result",
          "data": {
            "text/plain": [
              "           genre  num_critic_reviews  num_user_reviews\n",
              "0         Action                1933              1878\n",
              "1      Adventure                 342               314\n",
              "2       Fighting                 418               409\n",
              "3           Misc                 528               446\n",
              "4       Platform                 501               435\n",
              "5         Puzzle                 232               135\n",
              "6         Racing                 756               653\n",
              "7   Role-Playing                 759               766\n",
              "8        Shooter                 963               945\n",
              "9     Simulation                 367               358\n",
              "10        Sports                1213              1123\n",
              "11      Strategy                 324               336"
            ],
            "text/html": [
              "\n",
              "  <div id=\"df-ce2c0670-6130-4758-a11d-117fa8726b73\" class=\"colab-df-container\">\n",
              "    <div>\n",
              "<style scoped>\n",
              "    .dataframe tbody tr th:only-of-type {\n",
              "        vertical-align: middle;\n",
              "    }\n",
              "\n",
              "    .dataframe tbody tr th {\n",
              "        vertical-align: top;\n",
              "    }\n",
              "\n",
              "    .dataframe thead th {\n",
              "        text-align: right;\n",
              "    }\n",
              "</style>\n",
              "<table border=\"1\" class=\"dataframe\">\n",
              "  <thead>\n",
              "    <tr style=\"text-align: right;\">\n",
              "      <th></th>\n",
              "      <th>genre</th>\n",
              "      <th>num_critic_reviews</th>\n",
              "      <th>num_user_reviews</th>\n",
              "    </tr>\n",
              "  </thead>\n",
              "  <tbody>\n",
              "    <tr>\n",
              "      <th>0</th>\n",
              "      <td>Action</td>\n",
              "      <td>1933</td>\n",
              "      <td>1878</td>\n",
              "    </tr>\n",
              "    <tr>\n",
              "      <th>1</th>\n",
              "      <td>Adventure</td>\n",
              "      <td>342</td>\n",
              "      <td>314</td>\n",
              "    </tr>\n",
              "    <tr>\n",
              "      <th>2</th>\n",
              "      <td>Fighting</td>\n",
              "      <td>418</td>\n",
              "      <td>409</td>\n",
              "    </tr>\n",
              "    <tr>\n",
              "      <th>3</th>\n",
              "      <td>Misc</td>\n",
              "      <td>528</td>\n",
              "      <td>446</td>\n",
              "    </tr>\n",
              "    <tr>\n",
              "      <th>4</th>\n",
              "      <td>Platform</td>\n",
              "      <td>501</td>\n",
              "      <td>435</td>\n",
              "    </tr>\n",
              "    <tr>\n",
              "      <th>5</th>\n",
              "      <td>Puzzle</td>\n",
              "      <td>232</td>\n",
              "      <td>135</td>\n",
              "    </tr>\n",
              "    <tr>\n",
              "      <th>6</th>\n",
              "      <td>Racing</td>\n",
              "      <td>756</td>\n",
              "      <td>653</td>\n",
              "    </tr>\n",
              "    <tr>\n",
              "      <th>7</th>\n",
              "      <td>Role-Playing</td>\n",
              "      <td>759</td>\n",
              "      <td>766</td>\n",
              "    </tr>\n",
              "    <tr>\n",
              "      <th>8</th>\n",
              "      <td>Shooter</td>\n",
              "      <td>963</td>\n",
              "      <td>945</td>\n",
              "    </tr>\n",
              "    <tr>\n",
              "      <th>9</th>\n",
              "      <td>Simulation</td>\n",
              "      <td>367</td>\n",
              "      <td>358</td>\n",
              "    </tr>\n",
              "    <tr>\n",
              "      <th>10</th>\n",
              "      <td>Sports</td>\n",
              "      <td>1213</td>\n",
              "      <td>1123</td>\n",
              "    </tr>\n",
              "    <tr>\n",
              "      <th>11</th>\n",
              "      <td>Strategy</td>\n",
              "      <td>324</td>\n",
              "      <td>336</td>\n",
              "    </tr>\n",
              "  </tbody>\n",
              "</table>\n",
              "</div>\n",
              "    <div class=\"colab-df-buttons\">\n",
              "\n",
              "  <div class=\"colab-df-container\">\n",
              "    <button class=\"colab-df-convert\" onclick=\"convertToInteractive('df-ce2c0670-6130-4758-a11d-117fa8726b73')\"\n",
              "            title=\"Convert this dataframe to an interactive table.\"\n",
              "            style=\"display:none;\">\n",
              "\n",
              "  <svg xmlns=\"http://www.w3.org/2000/svg\" height=\"24px\" viewBox=\"0 -960 960 960\">\n",
              "    <path d=\"M120-120v-720h720v720H120Zm60-500h600v-160H180v160Zm220 220h160v-160H400v160Zm0 220h160v-160H400v160ZM180-400h160v-160H180v160Zm440 0h160v-160H620v160ZM180-180h160v-160H180v160Zm440 0h160v-160H620v160Z\"/>\n",
              "  </svg>\n",
              "    </button>\n",
              "\n",
              "  <style>\n",
              "    .colab-df-container {\n",
              "      display:flex;\n",
              "      gap: 12px;\n",
              "    }\n",
              "\n",
              "    .colab-df-convert {\n",
              "      background-color: #E8F0FE;\n",
              "      border: none;\n",
              "      border-radius: 50%;\n",
              "      cursor: pointer;\n",
              "      display: none;\n",
              "      fill: #1967D2;\n",
              "      height: 32px;\n",
              "      padding: 0 0 0 0;\n",
              "      width: 32px;\n",
              "    }\n",
              "\n",
              "    .colab-df-convert:hover {\n",
              "      background-color: #E2EBFA;\n",
              "      box-shadow: 0px 1px 2px rgba(60, 64, 67, 0.3), 0px 1px 3px 1px rgba(60, 64, 67, 0.15);\n",
              "      fill: #174EA6;\n",
              "    }\n",
              "\n",
              "    .colab-df-buttons div {\n",
              "      margin-bottom: 4px;\n",
              "    }\n",
              "\n",
              "    [theme=dark] .colab-df-convert {\n",
              "      background-color: #3B4455;\n",
              "      fill: #D2E3FC;\n",
              "    }\n",
              "\n",
              "    [theme=dark] .colab-df-convert:hover {\n",
              "      background-color: #434B5C;\n",
              "      box-shadow: 0px 1px 3px 1px rgba(0, 0, 0, 0.15);\n",
              "      filter: drop-shadow(0px 1px 2px rgba(0, 0, 0, 0.3));\n",
              "      fill: #FFFFFF;\n",
              "    }\n",
              "  </style>\n",
              "\n",
              "    <script>\n",
              "      const buttonEl =\n",
              "        document.querySelector('#df-ce2c0670-6130-4758-a11d-117fa8726b73 button.colab-df-convert');\n",
              "      buttonEl.style.display =\n",
              "        google.colab.kernel.accessAllowed ? 'block' : 'none';\n",
              "\n",
              "      async function convertToInteractive(key) {\n",
              "        const element = document.querySelector('#df-ce2c0670-6130-4758-a11d-117fa8726b73');\n",
              "        const dataTable =\n",
              "          await google.colab.kernel.invokeFunction('convertToInteractive',\n",
              "                                                    [key], {});\n",
              "        if (!dataTable) return;\n",
              "\n",
              "        const docLinkHtml = 'Like what you see? Visit the ' +\n",
              "          '<a target=\"_blank\" href=https://colab.research.google.com/notebooks/data_table.ipynb>data table notebook</a>'\n",
              "          + ' to learn more about interactive tables.';\n",
              "        element.innerHTML = '';\n",
              "        dataTable['output_type'] = 'display_data';\n",
              "        await google.colab.output.renderOutput(dataTable, element);\n",
              "        const docLink = document.createElement('div');\n",
              "        docLink.innerHTML = docLinkHtml;\n",
              "        element.appendChild(docLink);\n",
              "      }\n",
              "    </script>\n",
              "  </div>\n",
              "\n",
              "\n",
              "<div id=\"df-74c7b2df-f496-408e-99d5-3730f6c8e7c0\">\n",
              "  <button class=\"colab-df-quickchart\" onclick=\"quickchart('df-74c7b2df-f496-408e-99d5-3730f6c8e7c0')\"\n",
              "            title=\"Suggest charts\"\n",
              "            style=\"display:none;\">\n",
              "\n",
              "<svg xmlns=\"http://www.w3.org/2000/svg\" height=\"24px\"viewBox=\"0 0 24 24\"\n",
              "     width=\"24px\">\n",
              "    <g>\n",
              "        <path d=\"M19 3H5c-1.1 0-2 .9-2 2v14c0 1.1.9 2 2 2h14c1.1 0 2-.9 2-2V5c0-1.1-.9-2-2-2zM9 17H7v-7h2v7zm4 0h-2V7h2v10zm4 0h-2v-4h2v4z\"/>\n",
              "    </g>\n",
              "</svg>\n",
              "  </button>\n",
              "\n",
              "<style>\n",
              "  .colab-df-quickchart {\n",
              "      --bg-color: #E8F0FE;\n",
              "      --fill-color: #1967D2;\n",
              "      --hover-bg-color: #E2EBFA;\n",
              "      --hover-fill-color: #174EA6;\n",
              "      --disabled-fill-color: #AAA;\n",
              "      --disabled-bg-color: #DDD;\n",
              "  }\n",
              "\n",
              "  [theme=dark] .colab-df-quickchart {\n",
              "      --bg-color: #3B4455;\n",
              "      --fill-color: #D2E3FC;\n",
              "      --hover-bg-color: #434B5C;\n",
              "      --hover-fill-color: #FFFFFF;\n",
              "      --disabled-bg-color: #3B4455;\n",
              "      --disabled-fill-color: #666;\n",
              "  }\n",
              "\n",
              "  .colab-df-quickchart {\n",
              "    background-color: var(--bg-color);\n",
              "    border: none;\n",
              "    border-radius: 50%;\n",
              "    cursor: pointer;\n",
              "    display: none;\n",
              "    fill: var(--fill-color);\n",
              "    height: 32px;\n",
              "    padding: 0;\n",
              "    width: 32px;\n",
              "  }\n",
              "\n",
              "  .colab-df-quickchart:hover {\n",
              "    background-color: var(--hover-bg-color);\n",
              "    box-shadow: 0 1px 2px rgba(60, 64, 67, 0.3), 0 1px 3px 1px rgba(60, 64, 67, 0.15);\n",
              "    fill: var(--button-hover-fill-color);\n",
              "  }\n",
              "\n",
              "  .colab-df-quickchart-complete:disabled,\n",
              "  .colab-df-quickchart-complete:disabled:hover {\n",
              "    background-color: var(--disabled-bg-color);\n",
              "    fill: var(--disabled-fill-color);\n",
              "    box-shadow: none;\n",
              "  }\n",
              "\n",
              "  .colab-df-spinner {\n",
              "    border: 2px solid var(--fill-color);\n",
              "    border-color: transparent;\n",
              "    border-bottom-color: var(--fill-color);\n",
              "    animation:\n",
              "      spin 1s steps(1) infinite;\n",
              "  }\n",
              "\n",
              "  @keyframes spin {\n",
              "    0% {\n",
              "      border-color: transparent;\n",
              "      border-bottom-color: var(--fill-color);\n",
              "      border-left-color: var(--fill-color);\n",
              "    }\n",
              "    20% {\n",
              "      border-color: transparent;\n",
              "      border-left-color: var(--fill-color);\n",
              "      border-top-color: var(--fill-color);\n",
              "    }\n",
              "    30% {\n",
              "      border-color: transparent;\n",
              "      border-left-color: var(--fill-color);\n",
              "      border-top-color: var(--fill-color);\n",
              "      border-right-color: var(--fill-color);\n",
              "    }\n",
              "    40% {\n",
              "      border-color: transparent;\n",
              "      border-right-color: var(--fill-color);\n",
              "      border-top-color: var(--fill-color);\n",
              "    }\n",
              "    60% {\n",
              "      border-color: transparent;\n",
              "      border-right-color: var(--fill-color);\n",
              "    }\n",
              "    80% {\n",
              "      border-color: transparent;\n",
              "      border-right-color: var(--fill-color);\n",
              "      border-bottom-color: var(--fill-color);\n",
              "    }\n",
              "    90% {\n",
              "      border-color: transparent;\n",
              "      border-bottom-color: var(--fill-color);\n",
              "    }\n",
              "  }\n",
              "</style>\n",
              "\n",
              "  <script>\n",
              "    async function quickchart(key) {\n",
              "      const quickchartButtonEl =\n",
              "        document.querySelector('#' + key + ' button');\n",
              "      quickchartButtonEl.disabled = true;  // To prevent multiple clicks.\n",
              "      quickchartButtonEl.classList.add('colab-df-spinner');\n",
              "      try {\n",
              "        const charts = await google.colab.kernel.invokeFunction(\n",
              "            'suggestCharts', [key], {});\n",
              "      } catch (error) {\n",
              "        console.error('Error during call to suggestCharts:', error);\n",
              "      }\n",
              "      quickchartButtonEl.classList.remove('colab-df-spinner');\n",
              "      quickchartButtonEl.classList.add('colab-df-quickchart-complete');\n",
              "    }\n",
              "    (() => {\n",
              "      let quickchartButtonEl =\n",
              "        document.querySelector('#df-74c7b2df-f496-408e-99d5-3730f6c8e7c0 button');\n",
              "      quickchartButtonEl.style.display =\n",
              "        google.colab.kernel.accessAllowed ? 'block' : 'none';\n",
              "    })();\n",
              "  </script>\n",
              "</div>\n",
              "    </div>\n",
              "  </div>\n"
            ]
          },
          "metadata": {},
          "execution_count": 51
        }
      ],
      "source": [
        "reviews_per_genre = video_games[['genre', 'num_critic_reviews', 'num_user_reviews']].groupby('genre').count().reset_index()\n",
        "reviews_per_genre"
      ]
    },
    {
      "cell_type": "code",
      "source": [
        "plt.figure(figsize = (15, 5))\n",
        "sns.barplot(reviews_per_genre, x = 'genre', y = 'num_critic_reviews',\n",
        "            color = 'green',\n",
        "            label = 'num critic reviews')\n",
        "sns.barplot(reviews_per_genre, x = 'genre', y = 'num_user_reviews',\n",
        "            color = 'red',\n",
        "            label = 'num user reviews',\n",
        "            bottom = reviews_per_genre['num_critic_reviews'])\n",
        "plt.legend()\n",
        "\n",
        "plt.title('Total Reviews Per Genre (num cirtics vs user reviews)')\n",
        "plt.ylabel('num reviews')"
      ],
      "metadata": {
        "colab": {
          "base_uri": "https://localhost:8080/",
          "height": 504
        },
        "id": "rtOOvw6x_Tp3",
        "outputId": "37ab99de-5bb1-426a-c40c-08eba72dc276"
      },
      "execution_count": 52,
      "outputs": [
        {
          "output_type": "execute_result",
          "data": {
            "text/plain": [
              "Text(0, 0.5, 'num reviews')"
            ]
          },
          "metadata": {},
          "execution_count": 52
        },
        {
          "output_type": "display_data",
          "data": {
            "text/plain": [
              "<Figure size 1500x500 with 1 Axes>"
            ],
            "image/png": "[encoded data removed]"
          },
          "metadata": {}
        }
      ]
    },
    {
      "cell_type": "markdown",
      "metadata": {
        "id": "sQI1I36HHGo1"
      },
      "source": [
        "From this graph we can observe that the action genre had the highest number of reviwes overall. We can also see an almost 50//50 split between the number of critic vs user reviews. For the rest of the genres we can observe that there are slightly more critic reviews than user reviews. This is important to note, especially giving the fact that in the previous visualization we saw that critics rates lower overall in scores."
      ]
    },
    {
      "cell_type": "markdown",
      "metadata": {
        "id": "cgMf0PLsHGo2"
      },
      "source": [
        "---\n",
        "## 3. Results"
      ]
    },
    {
      "cell_type": "markdown",
      "metadata": {
        "id": "Rk7bHDjGHGo2"
      },
      "source": [
        "You're welcome to organize your final file as needed.  You will certainly need a results section and a conclusion section."
      ]
    },
    {
      "cell_type": "markdown",
      "metadata": {
        "id": "Hfy4CnEnHGo2"
      },
      "source": [
        "---\n",
        "\n",
        "## 4. Conclusion"
      ]
    }
  ],
  "metadata": {
    "kernelspec": {
      "display_name": "Python 3 (ipykernel)",
      "language": "python",
      "name": "python3"
    },
    "language_info": {
      "codemirror_mode": {
        "name": "ipython",
        "version": 3
      },
      "file_extension": ".py",
      "mimetype": "text/x-python",
      "name": "python",
      "nbconvert_exporter": "python",
      "pygments_lexer": "ipython3",
      "version": "3.9.12"
    },
    "colab": {
      "provenance": [],
      "toc_visible": true,
      "include_colab_link": true
    }
  },
  "nbformat": 4,
  "nbformat_minor": 0
}